{
 "cells": [
  {
   "cell_type": "code",
   "execution_count": 1,
   "id": "43b22d70-42c8-4981-97e3-7d8bb35e0c44",
   "metadata": {},
   "outputs": [],
   "source": [
    "import torch\n",
    "import torch.nn.functional as F\n",
    "import matplotlib.pyplot as plt"
   ]
  },
  {
   "cell_type": "markdown",
   "id": "f2c2e43f-4b42-4540-a146-a23c2aaf00a7",
   "metadata": {},
   "source": [
    "### Import the data from external text file as before and create simple tokenizer"
   ]
  },
  {
   "cell_type": "code",
   "execution_count": 8,
   "id": "a7620650-65bb-451e-9b38-6d0bc9e425b8",
   "metadata": {},
   "outputs": [],
   "source": [
    "words = open(\"names.txt\",\"r\").read().splitlines()\n",
    "chars = sorted(list(set(\"\".join(words))))\n",
    "stoi = {s:i+1 for i,s in enumerate(chars)}\n",
    "stoi[\".\"]=0\n",
    "itos = {i:s for s, i in stoi.items()}"
   ]
  },
  {
   "cell_type": "markdown",
   "id": "8620c424-261b-447c-a6c9-c259258f5c9b",
   "metadata": {},
   "source": [
    "### Create dataset"
   ]
  },
  {
   "cell_type": "code",
   "execution_count": 12,
   "id": "247ddf55-6cb7-4e9b-8f04-acb39413f38a",
   "metadata": {},
   "outputs": [],
   "source": [
    "block_size = 3\n",
    "X, Y = [], []\n",
    "\n",
    "for w in words:\n",
    "    context = [0] * block_size\n",
    "    for ch in w + \".\":\n",
    "        ix = stoi[ch]\n",
    "        X.append(context)\n",
    "        Y.append(ix)\n",
    "        context = context[1:] + [ix]\n",
    "\n",
    "X = torch.tensor(X)\n",
    "Y = torch.tensor(Y)  "
   ]
  },
  {
   "cell_type": "markdown",
   "id": "081c92fc-7bd2-446f-b074-a7a393937490",
   "metadata": {},
   "source": [
    "### Create embedding table and hidden layer"
   ]
  },
  {
   "cell_type": "code",
   "execution_count": 18,
   "id": "cb011ef8-0a1f-43e0-8e25-0dc10df86f1b",
   "metadata": {},
   "outputs": [],
   "source": [
    "emb_size = 2\n",
    "hidden_layer_neurons = 100\n",
    "C = torch.randn(len(itos), emb_size)\n",
    "emb = C[X]\n",
    "W1 = torch.randn(emb_size * block_size, hidden_layer_neurons)\n",
    "b1 = torch.randn(hidden_layer_neurons)\n",
    "h = torch.tanh(emb.view(-1, emb_size * block_size) @ W1 + b1)"
   ]
  },
  {
   "cell_type": "markdown",
   "id": "7d194a00-a1b1-4be6-9119-f6bcb912c0e9",
   "metadata": {},
   "source": [
    "### Calcolate loss"
   ]
  },
  {
   "cell_type": "code",
   "execution_count": 19,
   "id": "a04bdcfd-238c-49a3-b3d6-1b393ec64af7",
   "metadata": {},
   "outputs": [
    {
     "data": {
      "text/plain": [
       "tensor(18.1455)"
      ]
     },
     "execution_count": 19,
     "metadata": {},
     "output_type": "execute_result"
    }
   ],
   "source": [
    "W2 = torch.randn(hidden_layer_neurons,len(itos))\n",
    "b2 = torch.randn(len(itos))\n",
    "logits = h @ W2 + b2\n",
    "loss = F.cross_entropy(logits,Y)\n",
    "loss"
   ]
  },
  {
   "cell_type": "markdown",
   "id": "7d1f5956-a6c2-4660-b264-787500b3168e",
   "metadata": {},
   "source": [
    "### Restructure for better code management"
   ]
  },
  {
   "cell_type": "code",
   "execution_count": 30,
   "id": "f5720150-30e9-474a-9c34-9db10c7088ea",
   "metadata": {},
   "outputs": [],
   "source": [
    "emb_size = 2\n",
    "hidden_layer_neurons = 100\n",
    "\n",
    "C = torch.randn(len(itos), emb_size)\n",
    "W1 = torch.randn(emb_size * block_size, hidden_layer_neurons)\n",
    "b1 = torch.randn(hidden_layer_neurons)\n",
    "W2 = torch.randn(hidden_layer_neurons,len(itos))\n",
    "b2 = torch.randn(len(itos))\n",
    "parameters = [C, W1, b1, W2, b2]\n",
    "total_parameters = sum(p.nelement() for p in parameters)\n",
    "\n",
    "for p in parameters:\n",
    "    p.requires_grad = True"
   ]
  },
  {
   "cell_type": "markdown",
   "id": "6f78f78b-1859-49c9-9ea1-9d45263520cb",
   "metadata": {},
   "source": [
    "### Train on mini-batch"
   ]
  },
  {
   "cell_type": "code",
   "execution_count": 31,
   "id": "edb9a351-3ee2-4562-a5a0-343b7e100f4d",
   "metadata": {},
   "outputs": [
    {
     "name": "stdout",
     "output_type": "stream",
     "text": [
      "2.288787364959717\n"
     ]
    }
   ],
   "source": [
    "for i in range(20000):\n",
    "    \n",
    "    ix = torch.randint(0, X.shape[0],(32,))\n",
    "    emb = C[X[ix]]\n",
    "    h = torch.tanh(emb.view(-1, emb_size * block_size) @ W1 + b1)\n",
    "    logits = h @ W2 + b2\n",
    "    loss = F.cross_entropy(logits,Y[ix])\n",
    "\n",
    "    for p in parameters:\n",
    "        p.grad = None\n",
    "\n",
    "    loss.backward()\n",
    "\n",
    "    for p in parameters:\n",
    "        p.data += -1.0 * p.grad\n",
    "\n",
    "print(loss.item())"
   ]
  },
  {
   "cell_type": "code",
   "execution_count": null,
   "id": "e3c8a995-1040-4cee-bfc1-cec1b091590a",
   "metadata": {},
   "outputs": [],
   "source": []
  }
 ],
 "metadata": {
  "kernelspec": {
   "display_name": "Python 3 (ipykernel)",
   "language": "python",
   "name": "python3"
  },
  "language_info": {
   "codemirror_mode": {
    "name": "ipython",
    "version": 3
   },
   "file_extension": ".py",
   "mimetype": "text/x-python",
   "name": "python",
   "nbconvert_exporter": "python",
   "pygments_lexer": "ipython3",
   "version": "3.9.6"
  }
 },
 "nbformat": 4,
 "nbformat_minor": 5
}
