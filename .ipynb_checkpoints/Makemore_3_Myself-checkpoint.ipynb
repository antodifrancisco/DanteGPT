{
 "cells": [
  {
   "cell_type": "code",
   "execution_count": 90,
   "id": "6841ef93-62e0-4692-8dc1-e6669d0fccf5",
   "metadata": {},
   "outputs": [],
   "source": [
    "import torch\n",
    "import matplotlib.pyplot as plt\n",
    "import torch.nn.functional as F\n",
    "import random"
   ]
  },
  {
   "cell_type": "markdown",
   "id": "3c48882e-fb4b-47ac-8c0a-1a2de09abe85",
   "metadata": {},
   "source": [
    "### 1. Datasets creation functions"
   ]
  },
  {
   "cell_type": "code",
   "execution_count": 109,
   "id": "820533ee-ce87-480a-afb9-55518a6aced9",
   "metadata": {},
   "outputs": [],
   "source": [
    "words = open(\"names.txt\", \"r\").read().splitlines()\n",
    "chars = sorted(list(set(\"\".join(words))))\n",
    "stoi = {s:i+1 for i, s in enumerate(chars)}\n",
    "stoi[\".\"] = 0\n",
    "itos = {i:s for s, i in stoi.items()}"
   ]
  },
  {
   "cell_type": "code",
   "execution_count": 110,
   "id": "5f196efd-4c1a-4ab3-acc3-a2aa3411e35f",
   "metadata": {},
   "outputs": [],
   "source": [
    "def create_dataset(words):\n",
    "    X, Y = [], []\n",
    "    for w in words:\n",
    "        context = [0] * block_size\n",
    "        for ch in w + \".\":\n",
    "            X.append(context)\n",
    "            ix = stoi[ch]\n",
    "            context = context[1:] + [ix]\n",
    "            Y.append(ix)\n",
    "\n",
    "    X = torch.tensor(X)\n",
    "    Y = torch.tensor(Y)\n",
    "\n",
    "    return X,Y"
   ]
  },
  {
   "cell_type": "code",
   "execution_count": 111,
   "id": "d621f06b-0fc8-49fe-b610-9accecd32f89",
   "metadata": {},
   "outputs": [],
   "source": [
    "g = torch.Generator().manual_seed(2147483647)\n",
    "block_size = 3\n",
    "n_embd = 10\n",
    "batch_size = 32\n",
    "n_hidden = 100\n",
    "vocab_size = len(stoi)\n",
    "max_steps = 200_000\n",
    "lossi = []"
   ]
  },
  {
   "cell_type": "code",
   "execution_count": 112,
   "id": "1416de46-d0e5-403e-ad05-712aae626fe1",
   "metadata": {},
   "outputs": [],
   "source": [
    "random.shuffle(words)\n",
    "n1 = int(0.8 * len(words))\n",
    "n2 = int(0.9 * len(words))\n",
    "Xtr, Ytr = create_dataset(words[:n1])\n",
    "Xdev, Ydev = create_dataset(words[n1:n2])\n",
    "Xte, Yte = create_dataset(words[n2:])"
   ]
  },
  {
   "cell_type": "markdown",
   "id": "b0332caf-ea54-4936-a810-84cf32254e78",
   "metadata": {},
   "source": [
    "### Class definition"
   ]
  },
  {
   "cell_type": "code",
   "execution_count": 113,
   "id": "41f03d73-81a6-46d4-858d-13eefce98a18",
   "metadata": {},
   "outputs": [],
   "source": [
    "class Linear:\n",
    "\n",
    "    def __init__(self, fan_in, fan_out, bias=True):\n",
    "        self.weight = torch.randn((fan_in,fan_out), generator = g) / fan_in**0.5\n",
    "        self.bias = torch.zeros(fan_out) if bias else None\n",
    "\n",
    "    def __call__(self, x):\n",
    "        self.out = x @ self.weight\n",
    "        if self.bias is not None:\n",
    "            self.out += self.bias\n",
    "        return self.out\n",
    "\n",
    "    def parameters(self):\n",
    "        return [self.weight] + ([] if self.bias is None else [self.bias])\n",
    "\n",
    "class BatchNorm1d:\n",
    "\n",
    "    def __init__(self, dim, eps=1e-5, momentum=0.1):\n",
    "        self.eps = eps\n",
    "        self.momentum = momentum\n",
    "        self.training = True\n",
    "        self.gamma = torch.ones(dim)\n",
    "        self.beta = torch.zeros(dim)\n",
    "        self.running_mean = torch.zeros(dim)\n",
    "        self.running_var = torch.ones(dim)\n",
    "        \n",
    "    def __call__(self, x):\n",
    "        if self.training:\n",
    "            xmean = x.mean(0, keepdim=True)\n",
    "            xvar = x.var(0, keepdim=True)\n",
    "        else:\n",
    "            xmean = self.running_mean\n",
    "            xvar = self.running_var\n",
    "            \n",
    "        xhat = (x - xmean)/torch.sqrt(xvar + self.eps)\n",
    "        self.out = self.gamma*xhat + self.beta\n",
    "        if self.training:\n",
    "            with torch.no_grad():\n",
    "                self.running_mean = (1 - self.momentum)*self.running_mean + self.momentum*xmean\n",
    "                self.running_var = (1 - self.momentum)*self.running_var + self.momentum*xvar\n",
    "        return self.out\n",
    "    \n",
    "    def parameters(self):\n",
    "        return [self.beta, self.gamma]\n",
    "\n",
    "class Tanh:\n",
    "\n",
    "    def __call__(self,x):\n",
    "        self.out = torch.tanh(x)\n",
    "        return self.out\n",
    "\n",
    "    def parameters(self):\n",
    "        return []"
   ]
  },
  {
   "cell_type": "markdown",
   "id": "de6068d2-84f7-457c-9828-3510620241da",
   "metadata": {},
   "source": [
    "### Instantiate NN and train"
   ]
  },
  {
   "cell_type": "code",
   "execution_count": 114,
   "id": "6c419c4e-d51a-4efa-b7f9-1790ec8d27a8",
   "metadata": {},
   "outputs": [
    {
     "name": "stdout",
     "output_type": "stream",
     "text": [
      "47551\n"
     ]
    }
   ],
   "source": [
    "C = torch.randn((vocab_size,n_embd), generator = g)\n",
    "layers = [\n",
    "    Linear(block_size * n_embd,n_hidden), BatchNorm1d(n_hidden), Tanh(),\n",
    "    Linear(n_hidden,n_hidden), BatchNorm1d(n_hidden), Tanh(),\n",
    "    Linear(n_hidden,n_hidden), BatchNorm1d(n_hidden), Tanh(),\n",
    "    Linear(n_hidden,n_hidden), BatchNorm1d(n_hidden), Tanh(),\n",
    "    Linear(n_hidden,n_hidden), BatchNorm1d(n_hidden), Tanh(),\n",
    "    Linear(n_hidden, vocab_size), BatchNorm1d(vocab_size)\n",
    "]\n",
    "\n",
    "with torch.no_grad():\n",
    "    layers[-1].gamma *= 0.1\n",
    "    # layers[-1].weight *= 0.1\n",
    "    for layer in layers[:-1]:\n",
    "        if isinstance(layer,Linear):\n",
    "            layer.weight *= 5/3\n",
    "\n",
    "parameters = [C] + [p for layer in layers for p in layer.parameters()]\n",
    "print(sum(p.nelement() for p in parameters))\n",
    "\n",
    "for p in parameters:\n",
    "    p.requires_grad = True"
   ]
  },
  {
   "cell_type": "code",
   "execution_count": 115,
   "id": "447827fa-ea3f-4d18-b4b0-a6686df2c145",
   "metadata": {},
   "outputs": [
    {
     "name": "stdout",
     "output_type": "stream",
     "text": [
      "      0/ 200000: 3.2954\n",
      "  10000/ 200000: 2.1951\n",
      "  20000/ 200000: 1.9277\n",
      "  30000/ 200000: 1.8694\n",
      "  40000/ 200000: 2.1352\n",
      "  50000/ 200000: 2.7148\n",
      "  60000/ 200000: 2.1457\n",
      "  70000/ 200000: 2.2182\n",
      "  80000/ 200000: 2.0129\n",
      "  90000/ 200000: 1.9995\n",
      " 100000/ 200000: 1.9065\n",
      " 110000/ 200000: 2.2528\n",
      " 120000/ 200000: 2.0342\n",
      " 130000/ 200000: 1.9106\n",
      " 140000/ 200000: 1.8894\n",
      " 150000/ 200000: 1.9038\n",
      " 160000/ 200000: 1.9651\n",
      " 170000/ 200000: 2.2549\n",
      " 180000/ 200000: 1.9441\n",
      " 190000/ 200000: 2.0405\n"
     ]
    }
   ],
   "source": [
    "for i in range(max_steps):\n",
    "\n",
    "    # minibatch construct\n",
    "    ix = torch.randint(0, Xtr.shape[0], (batch_size,), generator = g)\n",
    "    Xb, Yb = Xtr[ix], Ytr[ix]\n",
    "\n",
    "    # forward pass\n",
    "    emb = C[Xb]\n",
    "    x = emb.view(emb.shape[0], -1)\n",
    "    for layer in layers:\n",
    "        x = layer(x)\n",
    "    loss = F.cross_entropy(x, Yb)\n",
    "\n",
    "    for p in parameters:\n",
    "        p.grad = None\n",
    "\n",
    "    loss.backward()\n",
    "\n",
    "    lr=0.1 if i < 100_000 else 0.01\n",
    "    for p in parameters:\n",
    "        p.data += -lr * p.grad\n",
    "\n",
    "    if i % 10_000 == 0:\n",
    "        print(f'{i:7d}/{max_steps:7d}: {loss.item():.4f}')\n",
    "    lossi.append(loss.log10().item())"
   ]
  },
  {
   "cell_type": "code",
   "execution_count": null,
   "id": "33450a37-f057-4bea-9ab0-1d1db4119b3f",
   "metadata": {},
   "outputs": [],
   "source": []
  }
 ],
 "metadata": {
  "kernelspec": {
   "display_name": "Python 3 (ipykernel)",
   "language": "python",
   "name": "python3"
  },
  "language_info": {
   "codemirror_mode": {
    "name": "ipython",
    "version": 3
   },
   "file_extension": ".py",
   "mimetype": "text/x-python",
   "name": "python",
   "nbconvert_exporter": "python",
   "pygments_lexer": "ipython3",
   "version": "3.9.6"
  }
 },
 "nbformat": 4,
 "nbformat_minor": 5
}
